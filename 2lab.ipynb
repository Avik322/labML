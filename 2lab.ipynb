{
 "cells": [
  {
   "cell_type": "code",
   "execution_count": 1,
   "id": "bf6abf34-7946-42cd-9796-090176b3f3dc",
   "metadata": {},
   "outputs": [],
   "source": [
    "import pygmo as pg\n",
    "import pandas as pd\n",
    "import numpy as np\n",
    "import matplotlib.pyplot as plt"
   ]
  },
  {
   "cell_type": "code",
   "execution_count": 2,
   "id": "e08fbdfe-cf44-4cdc-8065-6a4afb96e4e3",
   "metadata": {},
   "outputs": [],
   "source": [
    "# ф-я Розенброка \n",
    "class rosenbrock_problem:\n",
    "    def __init__(self, dim=10): # dim - размерность задачи\n",
    "        self.dim = dim\n",
    "    \n",
    "    def fitness(self, x):\n",
    "        # ф-я Розенброка: f(x) = sum(100*(x[i+1] - x[i]^2)^2 + (1 - x[i])^2) гдне i = 1, ..., n-1\n",
    "        return [sum(100 * (x[i+1] - x[i]**2)**2 + (1 - x[i])**2 for i in range(self.dim - 1))]\n",
    "\n",
    "    def get_bounds(self): # ограничения\n",
    "        return ([-5] * self.dim, [5] * self.dim)\n",
    "\n",
    "# ф-я Сферы\n",
    "class sphere_problem:\n",
    "    def __init__(self, dim=10):\n",
    "        self.dim = dim \n",
    "    \n",
    "    def fitness(self, x):\n",
    "        # Ф-я сферы: f(x) = sum(x[i]^2) где i = 1, ..., n\n",
    "        return [sum(xi**2 for xi in x)]\n",
    "\n",
    "    def get_bounds(self):\n",
    "        return ([-5] * self.dim, [5] * self.dim)"
   ]
  },
  {
   "cell_type": "code",
   "execution_count": 3,
   "id": "e21284fa-d605-4f24-84be-170cd5a4820a",
   "metadata": {},
   "outputs": [],
   "source": [
    "# п-рыы для моделирования отжига (Simulated Annealing)\n",
    "Ts = 10.0  # начадбная температура\n",
    "Tf = 0.1   # конечная температура\n",
    "n_T_adj = 10  # к-во шагов для корректировки температуры\n",
    "n_range_adj = 1  # к-во шагов для корректировки диапазона\n",
    "bin_size = 20  # размер бина\n",
    "start_range = 1.0  # начальный диапазон\n",
    "seed = 42  # сид для генератора случайных чисел\n",
    "\n",
    "# Алгоритмы\n",
    "algo_de = pg.algorithm(pg.de(gen=100))  # диф эволюция\n",
    "algo_pso = pg.algorithm(pg.pso(gen=100))  # оптимизация роя частиц\n",
    "algo_sa = pg.algorithm(pg.simulated_annealing(Ts=Ts, Tf=Tf, n_T_adj=n_T_adj, \n",
    "                                              n_range_adj=n_range_adj, bin_size=bin_size, \n",
    "                                              start_range=start_range, seed=seed))  # моделирование отжига\n"
   ]
  },
  {
   "cell_type": "code",
   "execution_count": 4,
   "id": "052aedea-fe85-4e61-9551-79373b6afcaf",
   "metadata": {},
   "outputs": [],
   "source": [
    "# ф-я для запуска алгоритма и сбора результатов\n",
    "def run_algorithm(algorithm, problem, iterations=3):\n",
    "    results = []\n",
    "    for _ in range(iterations):\n",
    "        pop = pg.population(problem, 50)  # размер популяции 50\n",
    "        result = algorithm.evolve(pop)\n",
    "        results.append(result.get_f()[0])  # сохраняем мин значение ф-и\n",
    "    return results\n"
   ]
  },
  {
   "cell_type": "code",
   "execution_count": 5,
   "id": "79215197-38d6-4b46-ac83-a5793ef870af",
   "metadata": {},
   "outputs": [],
   "source": [
    "def optimize_and_compare():\n",
    "    # сравнение\n",
    "    functions = [rosenbrock_problem(dim=10), sphere_problem(dim=10)]\n",
    "    function_names = [\"Rosenbrock\", \"Sphere\"]\n",
    "    algorithms = [algo_de, algo_pso, algo_sa]\n",
    "    algorithm_names = [\"DE\", \"PSO\", \"SA\"]\n",
    "\n",
    "    # таблица сравнений\n",
    "    results_df = pd.DataFrame(columns=[\"Function\", \"Algorithm\", \"Run 1\", \"Run 2\", \"Run 3\", \"Average\"])\n",
    "\n",
    "    # прохождение по функциям и алгоритмам\n",
    "    for fn, fn_name in zip(functions, function_names):\n",
    "        for algo, algo_name in zip(algorithms, algorithm_names):\n",
    "            results = run_algorithm(algo, pg.problem(fn))\n",
    "            avg_result = np.mean(results)\n",
    "            result_dict = {\n",
    "                \"Function\": fn_name,\n",
    "                \"Algorithm\": algo_name,\n",
    "                \"Run 1\": results[0],\n",
    "                \"Run 2\": results[1],\n",
    "                \"Run 3\": results[2],\n",
    "                \"Average\": avg_result\n",
    "            }\n",
    "            results_df = pd.concat([results_df, pd.DataFrame([result_dict])], ignore_index=True)\n",
    "    \n",
    "    return results_df\n"
   ]
  },
  {
   "cell_type": "code",
   "execution_count": 6,
   "id": "25b38813-fd78-479f-a891-f7b66d02fea7",
   "metadata": {},
   "outputs": [
    {
     "name": "stderr",
     "output_type": "stream",
     "text": [
      "C:\\Users\\gibutakov\\AppData\\Local\\Temp\\ipykernel_7152\\4025862461.py:24: FutureWarning: The behavior of DataFrame concatenation with empty or all-NA entries is deprecated. In a future version, this will no longer exclude empty or all-NA columns when determining the result dtypes. To retain the old behavior, exclude the relevant entries before the concat operation.\n",
      "  results_df = pd.concat([results_df, pd.DataFrame([result_dict])], ignore_index=True)\n"
     ]
    },
    {
     "name": "stdout",
     "output_type": "stream",
     "text": [
      "     Function Algorithm                  Run 1                   Run 2  \\\n",
      "0  Rosenbrock        DE   [217.60274502935997]    [165.48207443944304]   \n",
      "1  Rosenbrock       PSO    [8.941981287118564]    [14.323720318446938]   \n",
      "2  Rosenbrock        SA    [107693.0257744942]     [84963.13822794202]   \n",
      "3      Sphere        DE   [0.7925768868882535]    [0.7202601754880197]   \n",
      "4      Sphere       PSO  [0.07171388925406148]  [0.015467191044267314]   \n",
      "5      Sphere        SA    [91.89934774737178]     [76.06496335099548]   \n",
      "\n",
      "                    Run 3        Average  \n",
      "0    [108.34064387908377]     163.808488  \n",
      "1    [11.972639572208992]      11.746114  \n",
      "2     [121171.1506526615]  104609.104885  \n",
      "3    [1.0968608314270119]       0.869899  \n",
      "4  [0.060445009638395004]       0.049209  \n",
      "5     [83.84994002430757]      83.938084  \n"
     ]
    }
   ],
   "source": [
    "results_table = optimize_and_compare()\n",
    "print(results_table)"
   ]
  },
  {
   "cell_type": "markdown",
   "id": "3f0af689-bfa1-466c-bc51-4c1a6282d54f",
   "metadata": {},
   "source": [
    "В этой лабораторной работе реализовали алгоритмы оптимизации для двух разных тестовых функций, сравнили их производительность."
   ]
  },
  {
   "cell_type": "code",
   "execution_count": null,
   "id": "116caed0-b356-4b6e-9364-1f69af58a4a7",
   "metadata": {},
   "outputs": [],
   "source": []
  }
 ],
 "metadata": {
  "kernelspec": {
   "display_name": "Python 3 (ipykernel)",
   "language": "python",
   "name": "python3"
  },
  "language_info": {
   "codemirror_mode": {
    "name": "ipython",
    "version": 3
   },
   "file_extension": ".py",
   "mimetype": "text/x-python",
   "name": "python",
   "nbconvert_exporter": "python",
   "pygments_lexer": "ipython3",
   "version": "3.12.8"
  }
 },
 "nbformat": 4,
 "nbformat_minor": 5
}
