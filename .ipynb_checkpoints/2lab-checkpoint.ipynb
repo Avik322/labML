{
 "cells": [
  {
   "cell_type": "code",
   "execution_count": 1,
   "id": "bf6abf34-7946-42cd-9796-090176b3f3dc",
   "metadata": {},
   "outputs": [
    {
     "ename": "ModuleNotFoundError",
     "evalue": "No module named 'pygmo'",
     "output_type": "error",
     "traceback": [
      "\u001b[1;31m---------------------------------------------------------------------------\u001b[0m",
      "\u001b[1;31mModuleNotFoundError\u001b[0m                       Traceback (most recent call last)",
      "Cell \u001b[1;32mIn[1], line 1\u001b[0m\n\u001b[1;32m----> 1\u001b[0m \u001b[38;5;28;01mimport\u001b[39;00m \u001b[38;5;21;01mpygmo\u001b[39;00m \u001b[38;5;28;01mas\u001b[39;00m \u001b[38;5;21;01mpg\u001b[39;00m\n\u001b[0;32m      2\u001b[0m \u001b[38;5;28;01mimport\u001b[39;00m \u001b[38;5;21;01mnumpy\u001b[39;00m \u001b[38;5;28;01mas\u001b[39;00m \u001b[38;5;21;01mnp\u001b[39;00m\n\u001b[0;32m      3\u001b[0m \u001b[38;5;28;01mimport\u001b[39;00m \u001b[38;5;21;01mpandas\u001b[39;00m \u001b[38;5;28;01mas\u001b[39;00m \u001b[38;5;21;01mpd\u001b[39;00m\n",
      "\u001b[1;31mModuleNotFoundError\u001b[0m: No module named 'pygmo'"
     ]
    }
   ],
   "source": [
    "import pygmo as pg\n",
    "import numpy as np\n",
    "import pandas as pd\n",
    "import matplotlib.pyplot as plt\n"
   ]
  },
  {
   "cell_type": "code",
   "execution_count": 4,
   "id": "b2cc6f79-1b20-46a2-88c0-dbe2db8be52f",
   "metadata": {},
   "outputs": [
    {
     "name": "stdout",
     "output_type": "stream",
     "text": [
      "Collecting pygmo\n",
      "  Using cached pygmo-v2.19.0.tar.gz (3.0 MB)\n"
     ]
    },
    {
     "name": "stderr",
     "output_type": "stream",
     "text": [
      "ERROR: pygmo from https://files.pythonhosted.org/packages/e2/12/090ba61479f60d5177a0048736d09dc028b2d65063ed44cb952df506336f/pygmo-v2.19.0.tar.gz does not appear to be a Python project: neither 'setup.py' nor 'pyproject.toml' found.\n"
     ]
    }
   ],
   "source": [
    "!pip install pygmo --no-binary :all:\n"
   ]
  },
  {
   "cell_type": "code",
   "execution_count": null,
   "id": "e08fbdfe-cf44-4cdc-8065-6a4afb96e4e3",
   "metadata": {},
   "outputs": [],
   "source": [
    "# Define the Rastrigin function\n",
    "def rastrigin(x):\n",
    "    return 10 * len(x) + sum([xi**2 - 10 * np.cos(2 * np.pi * xi) for xi in x])\n",
    "\n",
    "# Define the Sphere function\n",
    "def sphere(x):\n",
    "    return sum([xi**2 for xi in x])\n"
   ]
  },
  {
   "cell_type": "code",
   "execution_count": null,
   "id": "052aedea-fe85-4e61-9551-79373b6afcaf",
   "metadata": {},
   "outputs": [],
   "source": [
    "# Rastrigin Problem Class\n",
    "class rastrigin_problem:\n",
    "    def fitness(self, x):\n",
    "        return [rastrigin(x)]  # Fitness value for Rastrigin function\n",
    "    \n",
    "    def get_bounds(self):\n",
    "        return ([-5.12] * len(x), [5.12] * len(x))  # Bounds for each variable\n",
    "\n",
    "# Sphere Problem Class\n",
    "class sphere_problem:\n",
    "    def fitness(self, x):\n",
    "        return [sphere(x)]  # Fitness value for Sphere function\n",
    "    \n",
    "    def get_bounds(self):\n",
    "        return ([-5.12] * len(x), [5.12] * len(x))  # Bounds for each variable\n"
   ]
  },
  {
   "cell_type": "code",
   "execution_count": null,
   "id": "79215197-38d6-4b46-ac83-a5793ef870af",
   "metadata": {},
   "outputs": [],
   "source": [
    "# Create the problem instances\n",
    "n_vars = 2  # Number of variables for both functions\n",
    "rastrigin_pg_problem = pg.problem(rastrigin_problem())  # Rastrigin Problem\n",
    "sphere_pg_problem = pg.problem(sphere_problem())  # Sphere Problem\n"
   ]
  },
  {
   "cell_type": "code",
   "execution_count": null,
   "id": "25b38813-fd78-479f-a891-f7b66d02fea7",
   "metadata": {},
   "outputs": [],
   "source": [
    "# Create algorithm instances\n",
    "algo_cmaes = pg.algorithm(pg.cmaes(gen=100))  # CMA-ES with 100 generations\n",
    "algo_de = pg.algorithm(pg.de(gen=100))  # Differential Evolution with 100 generations\n",
    "algo_pso = pg.algorithm(pg.pso(gen=100))  # Particle Swarm Optimization with 100 generations\n",
    "\n",
    "# Create a list of algorithms\n",
    "algorithms = [algo_cmaes, algo_de, algo_pso]\n"
   ]
  },
  {
   "cell_type": "code",
   "execution_count": null,
   "id": "ca03c386-eb4b-43af-9f6e-e77d73249f78",
   "metadata": {},
   "outputs": [],
   "source": [
    "# Function to apply an algorithm to a problem and get results\n",
    "def run_algorithm(problem, algorithm):\n",
    "    algo = algorithm\n",
    "    pop = pg.population(problem, 20)  # 20 individuals in population\n",
    "    algo.evolve(pop)  # Run the algorithm\n",
    "    return pop.get_f()[0][0], pop.get_x()[0]  # Return fitness and solution\n",
    "\n",
    "# Run each algorithm on both problems\n",
    "results = {\n",
    "    'Algorithm': [],\n",
    "    'Problem': [],\n",
    "    'Solution': [],\n",
    "    'Fitness Value': []\n",
    "}\n",
    "\n",
    "# Test each algorithm on both problems\n",
    "for algo in algorithms:\n",
    "    for problem, name in zip([rastrigin_pg_problem, sphere_pg_problem], ['Rastrigin', 'Sphere']):\n",
    "        fitness, solution = run_algorithm(problem, algo)\n",
    "        results['Algorithm'].append(algo.get_name())\n",
    "        results['Problem'].append(name)\n",
    "        results['Solution'].append(solution)\n",
    "        results['Fitness Value'].append(fitness)\n",
    "\n",
    "# Convert results to DataFrame for easy viewing\n",
    "df_results = pd.DataFrame(results)\n",
    "df_results\n"
   ]
  },
  {
   "cell_type": "code",
   "execution_count": null,
   "id": "3c722b31-5a86-4963-9cab-a743bed920af",
   "metadata": {},
   "outputs": [],
   "source": [
    "# Visualizing the results with a bar chart for comparison\n",
    "fig, ax = plt.subplots(figsize=(10, 6))\n",
    "\n",
    "# Group by Algorithm and Problem to calculate the best fitness value\n",
    "df_pivot = df_results.pivot_table(values='Fitness Value', index=['Algorithm', 'Problem'], aggfunc='min')\n",
    "df_pivot.plot(kind='bar', ax=ax, legend=False)\n",
    "\n",
    "# Set chart labels and title\n",
    "ax.set_xlabel('Algorithm & Problem')\n",
    "ax.set_ylabel('Fitness Value')\n",
    "ax.set_title('Comparison of Optimization Algorithms on Different Problems')\n",
    "plt.xticks(rotation=45, ha='right')\n",
    "plt.show()\n"
   ]
  },
  {
   "cell_type": "code",
   "execution_count": null,
   "id": "ead8d3ca-a3d0-42b7-8901-eee245f9c1aa",
   "metadata": {},
   "outputs": [],
   "source": [
    "### Заключение:\n",
    "В этом ноутбуке мы использовали библиотеку Pygmo для глобальной оптимизации двух тестовых функций: **Rastrigin** и **Sphere**. Мы применили три различных алгоритма:\n",
    "\n",
    "1. CMA-ES\n",
    "2. Дифференциальная эволюция (DE)\n",
    "3. Оптимизация роя частиц (PSO)\n",
    "\n",
    "Результаты показывают, какие алгоритмы лучше подходят для решения различных типов задач. Например, CMA-ES может быть более эффективным для сложных многомодальных функций, таких как Rastrigin, в то время как PSO может быть хорош для гладких функций, как Sphere.\n"
   ]
  }
 ],
 "metadata": {
  "kernelspec": {
   "display_name": "Python 3 (ipykernel)",
   "language": "python",
   "name": "python3"
  },
  "language_info": {
   "codemirror_mode": {
    "name": "ipython",
    "version": 3
   },
   "file_extension": ".py",
   "mimetype": "text/x-python",
   "name": "python",
   "nbconvert_exporter": "python",
   "pygments_lexer": "ipython3",
   "version": "3.12.3"
  }
 },
 "nbformat": 4,
 "nbformat_minor": 5
}
